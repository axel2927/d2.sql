{
  "nbformat": 4,
  "nbformat_minor": 0,
  "metadata": {
    "colab": {
      "name": "TP_geol_app-traitement_donnees_erreurs.ipynb",
      "provenance": [],
      "include_colab_link": true
    },
    "kernelspec": {
      "name": "python3",
      "display_name": "Python 3"
    }
  },
  "cells": [
    {
      "cell_type": "markdown",
      "metadata": {
        "id": "view-in-github",
        "colab_type": "text"
      },
      "source": [
        "<a href=\"https://colab.research.google.com/github/axel2927/d2.sql/blob/main/TP_geol_app_traitement_donnees_erreurs.ipynb\" target=\"_parent\"><img src=\"https://colab.research.google.com/assets/colab-badge.svg\" alt=\"Open In Colab\"/></a>"
      ]
    },
    {
      "cell_type": "markdown",
      "metadata": {
        "id": "eRfB77i2xoZG"
      },
      "source": [
        "**TP Experiences et Labo en géologie appliquée**\n",
        "\n",
        "Traitement de données, calcul d'erreur"
      ]
    },
    {
      "cell_type": "markdown",
      "metadata": {
        "id": "WYsQNox0y8Q3"
      },
      "source": [
        "Printemps 2024\n",
        "\n",
        "Landon Halloran\n",
        "\n",
        "landon.halloran@unine.ch\n",
        "\n",
        "\n"
      ]
    },
    {
      "cell_type": "code",
      "metadata": {
        "id": "ndeeF_qdyLDf"
      },
      "source": [
        "# importez les modules\n",
        "import numpy as np\n",
        "import pandas as pd\n",
        "import matplotlib.pyplot as plt\n",
        "from scipy.stats import norm"
      ],
      "execution_count": 1,
      "outputs": []
    },
    {
      "cell_type": "code",
      "metadata": {
        "id": "xnn7bguZyU1Q"
      },
      "source": [
        "#%% pourquoi l'erreur\n",
        "fig, ax = plt.subplots()\n",
        "ax.bar([1,2], [6,7], align='center', alpha=0.5, ecolor='black', capsize=10,color=['g','r'])\n",
        "ax.set_ylabel('Rendement (%)')\n",
        "ax.set_xticks([1,2])\n",
        "ax.set_xticklabels(['Süper-value fund','Mëga-growth fund'])\n",
        "ax.yaxis.grid(True)\n",
        "\n",
        "fig, ax = plt.subplots()\n",
        "ax.bar([1,2], [6,7], yerr=[4,15], align='center', alpha=0.5, ecolor='black', capsize=10,color=['g','r'])\n",
        "ax.set_ylabel('Rendement (%)')\n",
        "ax.set_xticks([1,2])\n",
        "ax.set_xticklabels(['Süper-value fund','Mëga-growth fund'])\n",
        "ax.yaxis.grid(True)\n",
        "\n",
        "fig, ax = plt.subplots()\n",
        "x=np.arange(0,2000,1)\n",
        "y1=norm.pdf(x,1000*1.06,1000*0.04)\n",
        "y2=norm.pdf(x,1000*1.07,1000*0.15)\n",
        "ax.fill(x,y1,alpha=0.5,c='g')\n",
        "ax.fill(x,y2,alpha=0.5,c='r')\n",
        "ax.set_xlim([800,1300])\n",
        "ax.set_ylabel('probabilité')\n",
        "ax.set_xlabel('valeur (CHF) de votre investissement après un an')\n",
        "ax.grid()\n",
        "print('probabilité perte, süper-value = ' + str(np.sum(y1[0:1000])))\n",
        "print('probabilité perte, mëga-growth = ' + str(np.sum(y2[0:1000])))"
      ],
      "execution_count": null,
      "outputs": []
    },
    {
      "cell_type": "code",
      "metadata": {
        "id": "m-VZygBHyaTv"
      },
      "source": [
        "#%%\n",
        "#numbers with uncertainties\n",
        "fig, ax = plt.subplots()\n",
        "ax.plot([1,2,3,4], [64,56,61,40],'k',marker='o', linestyle='none',linewidth=0,markersize=12)\n",
        "ax.errorbar([1,2,3,4], [64,56,61,40], yerr=[12,6,20,23],c='k',linestyle='none',capsize=10)\n",
        "ax.set_ylabel('Age (ka)',fontsize=14)\n",
        "ax.set_xticks([1,2,3,4])\n",
        "ax.set_xticklabels(['A','B','C','D'],fontsize=12)\n",
        "ax.yaxis.grid(True)\n",
        "\n",
        "# box plots (boîte à moustache)\n",
        "boxdata = pd.DataFrame()\n",
        "fig, ax = plt.subplots()\n",
        "for i in range(10): # créez (fausse) données...\n",
        "    spread = np.random.rand(20) * 20 + 50\n",
        "    center = np.ones(5) * 60\n",
        "    flier_high = np.random.rand(3) * 10 + 75\n",
        "    flier_low = np.random.rand(3) * 10 + 35\n",
        "    datanow = np.concatenate((spread, center, flier_high, flier_low))\n",
        "    np.random.shuffle(datanow)\n",
        "    boxdata[i] = datanow\n",
        "ax.boxplot(boxdata.transpose(),whis=[5,95]) # créez box plot\n",
        "ax.set_ylabel('Age (ka)',fontsize=14)\n",
        "ax.set_xlabel('Site',fontsize=14)\n",
        "\n",
        "fig, ax = plt.subplots()\n",
        "ax.plot(boxdata[0],'k',marker='x', linestyle='none',linewidth=0,markersize=10)\n",
        "ax.set_xlabel('échantillon',fontsize=14)\n",
        "ax.set_ylabel('Age (ka)',fontsize=14)"
      ],
      "execution_count": null,
      "outputs": []
    },
    {
      "cell_type": "code",
      "metadata": {
        "id": "HWfEQsgHydB-"
      },
      "source": [
        "# Gaussian distribution\n",
        "x=np.arange(-3,3,0.01)\n",
        "y=norm.pdf(x,0,1)\n",
        "fig, ax = plt.subplots()\n",
        "ax.plot(x,y,lw=3)\n",
        "ax.set_xlabel('x',fontsize=14)\n",
        "ax.set_ylabel('f(x)',fontsize=14)\n",
        "ax.grid()\n",
        "\n",
        "# fill 1 sigma\n",
        "x=np.arange(-3,3,0.01)\n",
        "y=norm.pdf(x,0,1)\n",
        "fig, ax = plt.subplots()\n",
        "ax.plot(x,y,lw=3,c='k')\n",
        "ax.fill_between(x[200:400],y[200:400],0,alpha=0.5,color='b')\n",
        "ax.set_xlabel('x',fontsize=14)\n",
        "ax.set_ylabel('f(x)',fontsize=14)\n",
        "ax.grid()\n",
        "\n",
        "# fill 2 sigma\n",
        "x=np.arange(-3,3,0.01)\n",
        "y=norm.pdf(x,0,1)\n",
        "fig, ax = plt.subplots()\n",
        "ax.plot(x,y,lw=3,c='k')\n",
        "ax.fill_between(x[100:500],y[100:500],0,alpha=0.5,color='g')\n",
        "ax.set_xlabel('x',fontsize=14)\n",
        "ax.set_ylabel('f(x)',fontsize=14)\n",
        "ax.grid()\n",
        "\n",
        "# fill 3 sigma\n",
        "x=np.arange(-4,4,0.01)\n",
        "y=norm.pdf(x,0,1)\n",
        "fig, ax = plt.subplots()\n",
        "ax.plot(x,y,lw=3,c='k')\n",
        "ax.fill_between(x[100:700],y[100:700],0,alpha=0.5,color='r')\n",
        "ax.set_xlabel('x',fontsize=14)\n",
        "ax.set_ylabel('f(x)',fontsize=14)\n",
        "ax.grid()"
      ],
      "execution_count": null,
      "outputs": []
    },
    {
      "cell_type": "code",
      "metadata": {
        "id": "Ev77_GFRFrjW"
      },
      "source": [
        "#%% valeur-p\n",
        "x=np.arange(-4,4,0.01)\n",
        "y=norm.pdf(x,0,1)\n",
        "fig, ax = plt.subplots()\n",
        "ax.plot(x+10,y,lw=3,c='k')\n",
        "ax.fill_between(x[600:]+10,y[600:],0,alpha=0.5,color='y')\n",
        "ax.set_xlabel('conc. du minéral X (%)',fontsize=14)\n",
        "ax.set_ylabel('distribution f(x)',fontsize=14)\n",
        "ax.grid()\n"
      ],
      "execution_count": null,
      "outputs": []
    },
    {
      "cell_type": "code",
      "metadata": {
        "id": "2cuLcw3ayfmn",
        "outputId": "56a7aa47-ed6d-4c31-da0d-9d36ad47a7b4",
        "colab": {
          "base_uri": "https://localhost:8080/"
        }
      },
      "source": [
        "#%% angle de pendage. moyenne et écart-type pondérés et non-pondérés\n",
        "dipa = np.array([45.,45,40,35,45]) # le . après le premier chiffre assure que numpy considère les valeurs comme \"floats\"\n",
        "dipasigma = np.array([5.,10,10,5,10])\n",
        "print('moyenne non-pondérée = '+ str(np.mean(dipa)))\n",
        "print('écart-type non-pondérée = '+ str(np.std(dipa,ddof=1)))\n",
        "dipapoids = dipasigma**(-2) # definir les poids\n",
        "print('moyenne pondérée = '+ str(np.average(dipa,weights=dipapoids)))\n",
        "sigmapond = np.sqrt(np.cov(dipa, aweights=dipapoids)) # malhereusement le std() dans numpy n'a pas de pondérage implémenté, donc voici un \"hack\" simple (ici le matrice de covariance est 1x1)\n",
        "print('écart-type pondérée = '+ str(sigmapond))"
      ],
      "execution_count": 2,
      "outputs": [
        {
          "output_type": "stream",
          "name": "stdout",
          "text": [
            "moyenne non-pondérée = 42.0\n",
            "écart-type non-pondérée = 4.47213595499958\n",
            "moyenne pondérée = 40.90909090909091\n",
            "écart-type pondérée = 5.55103174989768\n"
          ]
        }
      ]
    },
    {
      "cell_type": "code",
      "metadata": {
        "id": "eNgtIRWUyjF_"
      },
      "source": [
        "#%% Ajustement des courbes exemple - module de Young\n",
        "deformation = np.array([0.0, 0.001, 0.002, 0.003, 0.004, 0.005, 0.006, 0.007, 0.008,\n",
        "       0.009,0.01])\n",
        "#P = deformation*50 + np.random.normal(0,0.05,size=(11))\n",
        "P = np.array([0,  0.06780143,  0.07808708,  0.18884035,  0.23348198,\n",
        "        0.2526252 ,  0.26518975,  0.32043891,  0.38090508,  0.46565133,\n",
        "        0.48013039])\n",
        "#\n",
        "fig, ax = plt.subplots()\n",
        "ax.errorbar(deformation,P,yerr=0.05,fmt='ko') # uncertainty of P measurements is 0.05 GPa\n",
        "\n",
        "def function_for_fit(x,a): # pour le liniaire il y a d'autres facons de faire, mais ceci est generale\n",
        "    return x*a\n",
        "\n",
        "from scipy.optimize import curve_fit\n",
        "popt,pcov = curve_fit(function_for_fit,deformation,P)\n",
        "Youngs_modulus = popt.squeeze()\n",
        "Youngs_modulus_uncertainty = np.sqrt(pcov).squeeze()\n",
        "\n",
        "# add fit to figure\n",
        "ax.plot(deformation,function_for_fit(deformation,Youngs_modulus),'b')\n",
        "ax.set_xlabel('déformation, $\\epsilon_E$ (-)',fontsize=14)\n",
        "ax.set_ylabel('Pression de contrainte, $\\sigma_E$ (GPa)',fontsize=14)\n",
        "ax.grid()\n",
        "hl_str = 'E = '+str(Youngs_modulus)+' +/- '+str(Youngs_modulus_uncertainty)+' GPa'\n",
        "ax.set_title(hl_str)"
      ],
      "execution_count": null,
      "outputs": []
    },
    {
      "cell_type": "code",
      "metadata": {
        "id": "DmDccqV-yqbv"
      },
      "source": [
        "#%% exemple module de Young, avec +/- 1 et 2 sigma\n",
        "# plot with sigma ranges\n",
        "fig, ax = plt.subplots()\n",
        "t_for_function_plot = np.arange(0,100,0.01) # 50 yrs\n",
        "\n",
        "ax.fill_between(deformation,function_for_fit(deformation,Youngs_modulus+Youngs_modulus_uncertainty).flatten(),function_for_fit(deformation,Youngs_modulus-Youngs_modulus_uncertainty).flatten(),alpha=0.6,color='b')\n",
        "ax.fill_between(deformation,function_for_fit(deformation,Youngs_modulus+2*Youngs_modulus_uncertainty).flatten(),function_for_fit(deformation,Youngs_modulus-2*Youngs_modulus_uncertainty).flatten(),alpha=0.3,color='b')\n",
        "ax.plot(deformation,function_for_fit(deformation,Youngs_modulus),'b')\n",
        "ax.errorbar(deformation,P,yerr=0.05,fmt='ko')\n",
        "ax.set_xlabel('déformation, $\\epsilon_E$ (-)',fontsize=14)\n",
        "ax.set_ylabel('Pression de contrainte, $\\sigma_E$ (GPa)',fontsize=14)\n",
        "ax.grid()\n",
        "ax.set_title(hl_str)"
      ],
      "execution_count": null,
      "outputs": []
    },
    {
      "cell_type": "code",
      "metadata": {
        "id": "Gl4gZLiIbmA8",
        "outputId": "c8a7a992-4f11-4185-e4c2-3240628290a6",
        "colab": {
          "base_uri": "https://localhost:8080/",
          "height": 507
        }
      },
      "source": [
        "#%% extra: exemple d'ajustement des courbes (avec 2 parametres)\n",
        "\n",
        "# créez des (fausse) données avec du bruit. Ici, c'est un sinusoïde\n",
        "real_ampl = 1\n",
        "real_freq = 1\n",
        "bruit = 0.2\n",
        "\n",
        "def extra_func(t,p1,p2):\n",
        "    return p1*np.sin(2*np.pi*p2*t)\n",
        "\n",
        "t_for_datagen = np.arange(0,2,1/8)\n",
        "data = t_for_datagen - t_for_datagen\n",
        "for i in np.arange(np.size(t_for_datagen)):\n",
        "    data[i] = extra_func(t_for_datagen[i],real_ampl,real_freq)  + np.random.normal(0,bruit)\n",
        "\n",
        "# fit:\n",
        "popt,pcov = curve_fit(extra_func,t_for_datagen,data) # notez que pcov est maintenant de grandeur 2x2 parce qu'il y a !\n",
        "\n",
        "# écrire sur écran les valeurs ajustées\n",
        "sin_title = 'amplitude='+str(popt[0])+'+/-'+str(np.sqrt(pcov[0,0]))\n",
        "sin_title = sin_title + ', frequence='+str(popt[1])+'+/-'+str(np.sqrt(pcov[1,1])) + '/j'\n",
        "print(sin_title)\n",
        "\n",
        "# faire un graphe:\n",
        "t_for_plot = np.arange(0,4,0.01)\n",
        "fig, ax = plt.subplots()\n",
        "ax.plot(t_for_datagen,data,'ko')\n",
        "ax.plot(t_for_plot,extra_func(t_for_plot,popt[0],popt[1]),'b')\n",
        "ax.set_xlabel('temps (j)')\n",
        "ax.set_title(sin_title)\n"
      ],
      "execution_count": 5,
      "outputs": [
        {
          "output_type": "stream",
          "name": "stdout",
          "text": [
            "amplitude=1.005993807571732+/-0.07315302699627642, frequence=0.9974552277368194+/-0.011076297507977215/j\n"
          ]
        },
        {
          "output_type": "execute_result",
          "data": {
            "text/plain": [
              "Text(0.5, 1.0, 'amplitude=1.005993807571732+/-0.07315302699627642, frequence=0.9974552277368194+/-0.011076297507977215/j')"
            ]
          },
          "metadata": {},
          "execution_count": 5
        },
        {
          "output_type": "display_data",
          "data": {
            "text/plain": [
              "<Figure size 640x480 with 1 Axes>"
            ],
            "image/png": "[encoded data removed]"
          },
          "metadata": {}
        }
      ]
    },
    {
      "cell_type": "markdown",
      "metadata": {
        "id": "hnYmWk-ZWU7X"
      },
      "source": [
        "Pour les activités...\n",
        "\n"
      ]
    },
    {
      "cell_type": "code",
      "metadata": {
        "id": "odg-8Va2yrMP",
        "outputId": "a2ae6663-96c3-45b6-e2c3-9def974ef76a",
        "colab": {
          "base_uri": "https://localhost:8080/"
        }
      },
      "source": [
        "phlogiston_url = 'https://raw.githubusercontent.com/lhalloran/enseignement_extras/main/phlogiston.csv'\n",
        "atacamite_url = 'https://raw.githubusercontent.com/lhalloran/enseignement_extras/main/atacamite.csv'\n",
        "\n",
        "datain_phlog = pd.read_csv(phlogiston_url)\n",
        "datain_ataca = pd.read_csv(atacamite_url)\n",
        "\n",
        "print(datain_ataca)\n",
        "print(datain_phlog)\n"
      ],
      "execution_count": 4,
      "outputs": [
        {
          "output_type": "stream",
          "name": "stdout",
          "text": [
            "    Valeurs  Erreur de mesure\n",
            "0     3.760             0.005\n",
            "1     3.650             0.050\n",
            "2     3.785             0.005\n",
            "3     3.760             0.005\n",
            "4     3.500             0.500\n",
            "5     3.800             0.050\n",
            "6     3.765             0.005\n",
            "7     3.780             0.010\n",
            "8     3.750             0.010\n",
            "9     3.770             0.010\n",
            "10    3.775             0.005\n",
            "11    3.750             0.250\n",
            "    temps (a)  masse (g)\n",
            "0        0.00   1.000000\n",
            "1        0.25   0.972446\n",
            "2        0.50   0.965126\n",
            "3        0.75   0.940480\n",
            "4        1.00   0.936061\n",
            "5        1.25   0.920755\n",
            "6        1.50   0.895711\n",
            "7        1.75   0.898990\n",
            "8        2.00   0.873039\n",
            "9        2.25   0.843881\n",
            "10       2.50   0.846093\n"
          ]
        }
      ]
    },
    {
      "cell_type": "code",
      "source": [],
      "metadata": {
        "id": "vtylwIN2j1lH"
      },
      "execution_count": null,
      "outputs": []
    }
  ]
}